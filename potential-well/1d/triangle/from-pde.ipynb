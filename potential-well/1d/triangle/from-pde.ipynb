{
 "cells": [
  {
   "cell_type": "code",
   "execution_count": 1,
   "id": "643bef81",
   "metadata": {},
   "outputs": [
    {
     "name": "stderr",
     "output_type": "stream",
     "text": [
      "Using backend: tensorflow.compat.v1\n",
      "\n",
      "2023-05-15 15:50:51.761285: I tensorflow/core/platform/cpu_feature_guard.cc:182] This TensorFlow binary is optimized to use available CPU instructions in performance-critical operations.\n",
      "To enable the following instructions: AVX2 FMA, in other operations, rebuild TensorFlow with the appropriate compiler flags.\n"
     ]
    },
    {
     "name": "stdout",
     "output_type": "stream",
     "text": [
      "WARNING:tensorflow:From /home/piotr/repos/quant-chem-pinns/venv/lib/python3.10/site-packages/tensorflow/python/compat/v2_compat.py:107: disable_resource_variables (from tensorflow.python.ops.variable_scope) is deprecated and will be removed in a future version.\n",
      "Instructions for updating:\n",
      "non-resource variables are not supported in the long term\n",
      "Enable just-in-time compilation with XLA.\n",
      "\n"
     ]
    },
    {
     "name": "stderr",
     "output_type": "stream",
     "text": [
      "2023-05-15 15:51:10.946211: I tensorflow/compiler/xla/stream_executor/cuda/cuda_gpu_executor.cc:996] successful NUMA node read from SysFS had negative value (-1), but there must be at least one NUMA node, so returning NUMA node zero. See more at https://github.com/torvalds/linux/blob/v6.0/Documentation/ABI/testing/sysfs-bus-pci#L344-L355\n",
      "2023-05-15 15:51:11.278353: I tensorflow/compiler/xla/stream_executor/cuda/cuda_gpu_executor.cc:996] successful NUMA node read from SysFS had negative value (-1), but there must be at least one NUMA node, so returning NUMA node zero. See more at https://github.com/torvalds/linux/blob/v6.0/Documentation/ABI/testing/sysfs-bus-pci#L344-L355\n",
      "2023-05-15 15:51:11.279026: I tensorflow/compiler/xla/stream_executor/cuda/cuda_gpu_executor.cc:996] successful NUMA node read from SysFS had negative value (-1), but there must be at least one NUMA node, so returning NUMA node zero. See more at https://github.com/torvalds/linux/blob/v6.0/Documentation/ABI/testing/sysfs-bus-pci#L344-L355\n"
     ]
    },
    {
     "name": "stdout",
     "output_type": "stream",
     "text": [
      "WARNING:tensorflow:From /home/piotr/repos/quant-chem-pinns/venv/lib/python3.10/site-packages/deepxde/nn/initializers.py:118: The name tf.keras.initializers.he_normal is deprecated. Please use tf.compat.v1.keras.initializers.he_normal instead.\n",
      "\n"
     ]
    }
   ],
   "source": [
    "import deepxde as dde\n",
    "import numpy as np\n",
    "import matplotlib.pyplot as plt\n",
    "import scipy.special as sp"
   ]
  },
  {
   "cell_type": "code",
   "execution_count": 2,
   "id": "f1157267",
   "metadata": {},
   "outputs": [],
   "source": [
    "R = 2\n",
    "n = 4\n",
    "q = 1\n",
    "epsilon = 1"
   ]
  },
  {
   "cell_type": "code",
   "execution_count": 3,
   "id": "ee469dcc",
   "metadata": {},
   "outputs": [],
   "source": [
    "num_dense_nodes = 50\n",
    "num_dense_layers = 7"
   ]
  },
  {
   "cell_type": "code",
   "execution_count": 4,
   "id": "8c396d6e",
   "metadata": {},
   "outputs": [],
   "source": [
    "def pde(x, y):\n",
    "    ai_zeros, _, _, _ = sp.ai_zeros(n)\n",
    "    alpha_n = ai_zeros[-1]\n",
    "    E = -alpha_n * np.power((q ** 2) * (epsilon ** 2) / 2, (1 / 3))\n",
    "    \n",
    "    dy_xx = dde.grad.hessian(y, x, i=0, j=0)\n",
    "    \n",
    "    return dy_xx + 2 * (E - q * epsilon * x) * y"
   ]
  },
  {
   "cell_type": "code",
   "execution_count": 5,
   "id": "6e9bfe8b",
   "metadata": {},
   "outputs": [],
   "source": [
    "def psi(x):\n",
    "    ai_zeros, _, _, _ = sp.ai_zeros(n)\n",
    "    alpha_n = ai_zeros[-1]\n",
    "    E = -alpha_n * np.power((q ** 2) * (epsilon ** 2) / 2, (1 / 3))\n",
    "    \n",
    "    cube_root = np.power(2 * q * epsilon, (1 / 3))\n",
    "    \n",
    "    ai_value, _, _, _ = sp.airy(cube_root * (x - (E / (q * epsilon))))\n",
    "    _, aip_value, _, _ = sp.airy(-cube_root * (E / (q * epsilon)))\n",
    "    \n",
    "    normalization_constant = np.sqrt(cube_root / (aip_value ** 2))\n",
    "    \n",
    "    return normalization_constant * ai_value"
   ]
  },
  {
   "cell_type": "code",
   "execution_count": 6,
   "id": "899f20cc",
   "metadata": {},
   "outputs": [],
   "source": [
    "domain = dde.geometry.Interval(0, R)"
   ]
  },
  {
   "cell_type": "code",
   "execution_count": 7,
   "id": "1fddec36",
   "metadata": {},
   "outputs": [],
   "source": [
    "def get_collocation_points(n):\n",
    "    rs = []\n",
    "    \n",
    "    r_interval = R / (3 * n)\n",
    "    \n",
    "    for k in range(3 * n - 1):\n",
    "        r = (k + 1) * r_interval\n",
    "        rs.append(r)\n",
    "    \n",
    "    return np.array(rs).reshape((3 * n - 1, 1))"
   ]
  },
  {
   "cell_type": "code",
   "execution_count": 8,
   "id": "04025470",
   "metadata": {},
   "outputs": [
    {
     "data": {
      "text/plain": [
       "array([[-0.22429754],\n",
       "       [-0.38540924],\n",
       "       [-0.44099962],\n",
       "       [-0.37954696],\n",
       "       [-0.22055194],\n",
       "       [-0.00663928],\n",
       "       [ 0.2091959 ],\n",
       "       [ 0.37723824],\n",
       "       [ 0.46211298],\n",
       "       [ 0.44904503],\n",
       "       [ 0.3446705 ]])"
      ]
     },
     "execution_count": 8,
     "metadata": {},
     "output_type": "execute_result"
    }
   ],
   "source": [
    "collocation_points = get_collocation_points(n)\n",
    "collocation_values = psi(collocation_points)\n",
    "\n",
    "collocation_values"
   ]
  },
  {
   "cell_type": "code",
   "execution_count": 9,
   "id": "60f109ce",
   "metadata": {},
   "outputs": [],
   "source": [
    "ic = dde.icbc.PointSetBC(collocation_points, collocation_values)"
   ]
  },
  {
   "cell_type": "code",
   "execution_count": 10,
   "id": "2a781780",
   "metadata": {},
   "outputs": [],
   "source": [
    "def boundary(x, on_boundary):\n",
    "    return on_boundary and np.isclose(0, x[0])\n",
    "\n",
    "def boundary_value(x):\n",
    "    return 0\n",
    "\n",
    "dirichlet_bc = dde.icbc.DirichletBC(domain, boundary_value, boundary)"
   ]
  },
  {
   "cell_type": "code",
   "execution_count": 11,
   "id": "65699696",
   "metadata": {},
   "outputs": [],
   "source": [
    "bcs = [ic, dirichlet_bc]"
   ]
  },
  {
   "cell_type": "code",
   "execution_count": 12,
   "id": "e69a48cb",
   "metadata": {},
   "outputs": [],
   "source": [
    "num_train = 64\n",
    "num_test = 100\n",
    "num_boundary = 2\n",
    "\n",
    "singularity = [R]\n",
    "\n",
    "data = dde.data.PDE(\n",
    "    domain, \n",
    "    pde, \n",
    "    bcs, \n",
    "    num_domain=num_train,\n",
    "    num_boundary=num_boundary,\n",
    "    solution=psi, \n",
    "    num_test=num_test,\n",
    "    exclusions=singularity\n",
    ")"
   ]
  },
  {
   "cell_type": "code",
   "execution_count": 13,
   "id": "e13e4cec",
   "metadata": {},
   "outputs": [],
   "source": [
    "activation = 'tanh'\n",
    "net = dde.nn.FNN(\n",
    "    [1] + [num_dense_nodes] * num_dense_layers + [1], \n",
    "    activation, \n",
    "    'Glorot uniform'\n",
    ")"
   ]
  },
  {
   "cell_type": "code",
   "execution_count": 14,
   "id": "f2d8b3ed",
   "metadata": {},
   "outputs": [
    {
     "name": "stdout",
     "output_type": "stream",
     "text": [
      "Compiling model...\n",
      "Building feed-forward neural network...\n",
      "'build' took 1.190798 s\n",
      "\n"
     ]
    },
    {
     "name": "stderr",
     "output_type": "stream",
     "text": [
      "/home/piotr/repos/quant-chem-pinns/venv/lib/python3.10/site-packages/deepxde/nn/tensorflow_compat_v1/fnn.py:114: UserWarning: `tf.layers.dense` is deprecated and will be removed in a future version. Please use `tf.keras.layers.Dense` instead.\n",
      "  return tf.layers.dense(\n",
      "2023-05-15 15:53:34.399055: I tensorflow/compiler/xla/stream_executor/cuda/cuda_gpu_executor.cc:996] successful NUMA node read from SysFS had negative value (-1), but there must be at least one NUMA node, so returning NUMA node zero. See more at https://github.com/torvalds/linux/blob/v6.0/Documentation/ABI/testing/sysfs-bus-pci#L344-L355\n",
      "2023-05-15 15:53:34.399326: I tensorflow/compiler/xla/stream_executor/cuda/cuda_gpu_executor.cc:996] successful NUMA node read from SysFS had negative value (-1), but there must be at least one NUMA node, so returning NUMA node zero. See more at https://github.com/torvalds/linux/blob/v6.0/Documentation/ABI/testing/sysfs-bus-pci#L344-L355\n",
      "2023-05-15 15:53:34.399506: I tensorflow/compiler/xla/stream_executor/cuda/cuda_gpu_executor.cc:996] successful NUMA node read from SysFS had negative value (-1), but there must be at least one NUMA node, so returning NUMA node zero. See more at https://github.com/torvalds/linux/blob/v6.0/Documentation/ABI/testing/sysfs-bus-pci#L344-L355\n",
      "2023-05-15 15:53:41.441921: I tensorflow/compiler/xla/stream_executor/cuda/cuda_gpu_executor.cc:996] successful NUMA node read from SysFS had negative value (-1), but there must be at least one NUMA node, so returning NUMA node zero. See more at https://github.com/torvalds/linux/blob/v6.0/Documentation/ABI/testing/sysfs-bus-pci#L344-L355\n",
      "2023-05-15 15:53:41.442551: I tensorflow/compiler/xla/stream_executor/cuda/cuda_gpu_executor.cc:996] successful NUMA node read from SysFS had negative value (-1), but there must be at least one NUMA node, so returning NUMA node zero. See more at https://github.com/torvalds/linux/blob/v6.0/Documentation/ABI/testing/sysfs-bus-pci#L344-L355\n",
      "2023-05-15 15:53:41.442987: I tensorflow/compiler/xla/stream_executor/cuda/cuda_gpu_executor.cc:996] successful NUMA node read from SysFS had negative value (-1), but there must be at least one NUMA node, so returning NUMA node zero. See more at https://github.com/torvalds/linux/blob/v6.0/Documentation/ABI/testing/sysfs-bus-pci#L344-L355\n",
      "2023-05-15 15:53:41.443295: W tensorflow/core/common_runtime/gpu/gpu_bfc_allocator.cc:47] Overriding orig_value setting because the TF_FORCE_GPU_ALLOW_GROWTH environment variable is set. Original config value was 0.\n",
      "2023-05-15 15:53:41.443370: I tensorflow/core/common_runtime/gpu/gpu_device.cc:1635] Created device /job:localhost/replica:0/task:0/device:GPU:0 with 2424 MB memory:  -> device: 0, name: NVIDIA GeForce 940MX, pci bus id: 0000:01:00.0, compute capability: 5.0\n"
     ]
    },
    {
     "name": "stdout",
     "output_type": "stream",
     "text": [
      "'compile' took 8.875186 s\n",
      "\n"
     ]
    }
   ],
   "source": [
    "loss_weights = [1, 100, 100]\n",
    "\n",
    "model = dde.Model(data, net)\n",
    "model.compile(\n",
    "    'adam', \n",
    "    lr=0.0001, \n",
    "    metrics=['l2 relative error'], \n",
    "    loss_weights=loss_weights\n",
    ")"
   ]
  },
  {
   "cell_type": "code",
   "execution_count": 15,
   "id": "c51f00da",
   "metadata": {},
   "outputs": [
    {
     "name": "stdout",
     "output_type": "stream",
     "text": [
      "Initializing variables...\n",
      "Training model...\n",
      "\n"
     ]
    },
    {
     "name": "stderr",
     "output_type": "stream",
     "text": [
      "2023-05-15 15:53:49.245546: I tensorflow/compiler/mlir/mlir_graph_optimization_pass.cc:353] MLIR V1 optimization pass is not enabled\n",
      "2023-05-15 15:53:49.432848: I tensorflow/compiler/xla/service/service.cc:169] XLA service 0x7fc750005f40 initialized for platform CUDA (this does not guarantee that XLA will be used). Devices:\n",
      "2023-05-15 15:53:49.432882: I tensorflow/compiler/xla/service/service.cc:177]   StreamExecutor device (0): NVIDIA GeForce 940MX, Compute Capability 5.0\n",
      "2023-05-15 15:53:49.442036: I tensorflow/compiler/mlir/tensorflow/utils/dump_mlir_util.cc:269] disabling MLIR crash reproducer, set env var `MLIR_CRASH_REPRODUCER_DIRECTORY` to enable.\n",
      "2023-05-15 15:53:51.481486: I tensorflow/compiler/xla/stream_executor/cuda/cuda_dnn.cc:424] Loaded cuDNN version 8901\n",
      "2023-05-15 15:53:58.487611: I ./tensorflow/compiler/jit/device_compiler.h:180] Compiled cluster using XLA!  This line is logged at most once for the lifetime of the process.\n"
     ]
    },
    {
     "name": "stdout",
     "output_type": "stream",
     "text": [
      "Step      Train loss                        Test loss                         Test metric   \n",
      "0         [6.57e+00, 3.18e+01, 0.00e+00]    [6.77e+00, 3.18e+01, 0.00e+00]    [1.67e+00]    \n",
      "1000      [7.22e-01, 2.99e-01, 7.86e-05]    [7.35e-01, 2.99e-01, 7.86e-05]    [1.69e-01]    \n",
      "2000      [4.59e-03, 1.97e-03, 1.42e-05]    [4.32e-03, 1.97e-03, 1.42e-05]    [1.33e-02]    \n",
      "3000      [7.40e-04, 7.55e-06, 8.20e-08]    [7.57e-04, 7.55e-06, 8.20e-08]    [7.90e-04]    \n",
      "4000      [4.57e-04, 2.62e-06, 1.20e-08]    [4.84e-04, 2.62e-06, 1.20e-08]    [4.74e-04]    \n",
      "5000      [3.75e-04, 5.40e-06, 3.48e-08]    [3.97e-04, 5.40e-06, 3.48e-08]    [7.29e-04]    \n",
      "6000      [3.49e-04, 4.06e-05, 2.06e-07]    [3.70e-04, 4.06e-05, 2.06e-07]    [1.86e-03]    \n",
      "7000      [9.39e-04, 1.12e-03, 3.57e-06]    [9.56e-04, 1.12e-03, 3.57e-06]    [1.00e-02]    \n",
      "8000      [2.72e-04, 7.91e-07, 2.02e-09]    [2.80e-04, 7.91e-07, 2.02e-09]    [2.85e-04]    \n",
      "9000      [2.50e-04, 1.04e-06, 1.45e-08]    [2.54e-04, 1.04e-06, 1.45e-08]    [3.03e-04]    \n",
      "10000     [2.31e-04, 1.80e-06, 5.53e-08]    [2.32e-04, 1.80e-06, 5.53e-08]    [3.87e-04]    \n",
      "11000     [3.32e-04, 2.27e-04, 5.90e-07]    [3.39e-04, 2.27e-04, 5.90e-07]    [4.46e-03]    \n",
      "12000     [2.00e-04, 5.87e-07, 3.49e-09]    [1.94e-04, 5.87e-07, 3.49e-09]    [2.48e-04]    \n",
      "13000     [1.87e-04, 4.83e-07, 6.52e-09]    [1.80e-04, 4.83e-07, 6.52e-09]    [2.13e-04]    \n",
      "14000     [1.76e-04, 4.41e-07, 2.90e-09]    [1.67e-04, 4.41e-07, 2.90e-09]    [2.04e-04]    \n",
      "15000     [1.66e-04, 4.25e-07, 4.86e-09]    [1.56e-04, 4.25e-07, 4.86e-09]    [1.97e-04]    \n",
      "16000     [1.56e-04, 3.76e-07, 2.29e-09]    [1.45e-04, 3.76e-07, 2.29e-09]    [1.87e-04]    \n",
      "17000     [1.48e-04, 3.48e-07, 7.56e-09]    [1.35e-04, 3.48e-07, 7.56e-09]    [1.81e-04]    \n",
      "18000     [1.39e-04, 3.19e-07, 6.80e-09]    [1.26e-04, 3.19e-07, 6.80e-09]    [1.71e-04]    \n",
      "19000     [1.32e-04, 1.95e-06, 2.80e-08]    [1.19e-04, 1.95e-06, 2.80e-08]    [4.05e-04]    \n",
      "20000     [1.23e-04, 2.88e-07, 1.72e-08]    [1.09e-04, 2.88e-07, 1.72e-08]    [1.61e-04]    \n",
      "\n",
      "Best model at step 20000:\n",
      "  train loss: 1.23e-04\n",
      "  test loss: 1.10e-04\n",
      "  test metric: [1.61e-04]\n",
      "\n",
      "'train' took 52.720124 s\n",
      "\n"
     ]
    }
   ],
   "source": [
    "loss_history, train_state = model.train(iterations=20000)"
   ]
  },
  {
   "cell_type": "code",
   "execution_count": null,
   "id": "29a56f6d",
   "metadata": {},
   "outputs": [],
   "source": [
    "dde.saveplot(loss_history, train_state, issave=True, isplot=True)"
   ]
  },
  {
   "cell_type": "code",
   "execution_count": null,
   "id": "bc84512a",
   "metadata": {},
   "outputs": [],
   "source": []
  }
 ],
 "metadata": {
  "kernelspec": {
   "display_name": "Python 3 (ipykernel)",
   "language": "python",
   "name": "python3"
  },
  "language_info": {
   "codemirror_mode": {
    "name": "ipython",
    "version": 3
   },
   "file_extension": ".py",
   "mimetype": "text/x-python",
   "name": "python",
   "nbconvert_exporter": "python",
   "pygments_lexer": "ipython3",
   "version": "3.10.6"
  }
 },
 "nbformat": 4,
 "nbformat_minor": 5
}

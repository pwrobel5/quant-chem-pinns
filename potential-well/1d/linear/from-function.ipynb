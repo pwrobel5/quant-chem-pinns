{
 "cells": [
  {
   "cell_type": "code",
   "execution_count": null,
   "id": "c40cccaa",
   "metadata": {},
   "outputs": [
    {
     "name": "stderr",
     "output_type": "stream",
     "text": [
      "Using backend: tensorflow.compat.v1\n",
      "\n",
      "2023-08-04 02:08:05.062887: I tensorflow/core/platform/cpu_feature_guard.cc:182] This TensorFlow binary is optimized to use available CPU instructions in performance-critical operations.\n",
      "To enable the following instructions: AVX2 FMA, in other operations, rebuild TensorFlow with the appropriate compiler flags.\n"
     ]
    }
   ],
   "source": [
    "import deepxde as dde\n",
    "import numpy as np\n",
    "import matplotlib.pyplot as plt\n",
    "\n",
    "dde.config.set_random_seed(1234)"
   ]
  },
  {
   "cell_type": "code",
   "execution_count": 12,
   "id": "1fca9b1f",
   "metadata": {},
   "outputs": [],
   "source": [
    "num_dense_layers = 5\n",
    "num_dense_nodes = 20\n",
    "iterations = 10000\n",
    "activation = 'tanh'\n",
    "initializer = 'Glorot uniform'\n",
    "optimizer = 'L-BFGS'\n",
    "metrics = ['l2 relative error']"
   ]
  },
  {
   "cell_type": "code",
   "execution_count": 13,
   "id": "69bd57e3",
   "metadata": {},
   "outputs": [],
   "source": [
    "num_train = 32\n",
    "num_test = 100"
   ]
  },
  {
   "cell_type": "code",
   "execution_count": 14,
   "id": "971055d7",
   "metadata": {},
   "outputs": [],
   "source": [
    "L = 2\n",
    "n = 5"
   ]
  },
  {
   "cell_type": "code",
   "execution_count": 15,
   "id": "24c72e26",
   "metadata": {},
   "outputs": [],
   "source": [
    "def psi(x):\n",
    "    k = (n * np.pi) / L\n",
    "    normalization_constant = np.sqrt(2.0 / L)\n",
    "    return normalization_constant * np.sin(k * (x + 0.5 * L))"
   ]
  },
  {
   "cell_type": "code",
   "execution_count": 16,
   "id": "d3ca0afa",
   "metadata": {},
   "outputs": [],
   "source": [
    "domain = dde.geometry.Interval(-L / 2, L / 2)"
   ]
  },
  {
   "cell_type": "code",
   "execution_count": 17,
   "id": "39079f97",
   "metadata": {},
   "outputs": [],
   "source": [
    "data = dde.data.Function(\n",
    "    domain, \n",
    "    psi, \n",
    "    num_train, \n",
    "    num_test\n",
    ")"
   ]
  },
  {
   "cell_type": "code",
   "execution_count": 18,
   "id": "198b7043",
   "metadata": {},
   "outputs": [],
   "source": [
    "net = dde.nn.FNN(\n",
    "    [1] + [num_dense_nodes] * num_dense_layers + [1], \n",
    "    activation, \n",
    "    initializer\n",
    ")"
   ]
  },
  {
   "cell_type": "code",
   "execution_count": 19,
   "id": "c27678e6",
   "metadata": {},
   "outputs": [
    {
     "name": "stdout",
     "output_type": "stream",
     "text": [
      "Compiling model...\n",
      "Building feed-forward neural network...\n",
      "'build' took 0.099462 s\n",
      "\n",
      "'compile' took 0.236445 s\n",
      "\n"
     ]
    },
    {
     "name": "stderr",
     "output_type": "stream",
     "text": [
      "2023-08-01 00:36:26.538157: I tensorflow/compiler/xla/stream_executor/cuda/cuda_gpu_executor.cc:996] successful NUMA node read from SysFS had negative value (-1), but there must be at least one NUMA node, so returning NUMA node zero. See more at https://github.com/torvalds/linux/blob/v6.0/Documentation/ABI/testing/sysfs-bus-pci#L344-L355\n",
      "2023-08-01 00:36:26.538526: I tensorflow/compiler/xla/stream_executor/cuda/cuda_gpu_executor.cc:996] successful NUMA node read from SysFS had negative value (-1), but there must be at least one NUMA node, so returning NUMA node zero. See more at https://github.com/torvalds/linux/blob/v6.0/Documentation/ABI/testing/sysfs-bus-pci#L344-L355\n",
      "2023-08-01 00:36:26.538770: I tensorflow/compiler/xla/stream_executor/cuda/cuda_gpu_executor.cc:996] successful NUMA node read from SysFS had negative value (-1), but there must be at least one NUMA node, so returning NUMA node zero. See more at https://github.com/torvalds/linux/blob/v6.0/Documentation/ABI/testing/sysfs-bus-pci#L344-L355\n",
      "2023-08-01 00:36:26.539060: I tensorflow/compiler/xla/stream_executor/cuda/cuda_gpu_executor.cc:996] successful NUMA node read from SysFS had negative value (-1), but there must be at least one NUMA node, so returning NUMA node zero. See more at https://github.com/torvalds/linux/blob/v6.0/Documentation/ABI/testing/sysfs-bus-pci#L344-L355\n",
      "2023-08-01 00:36:26.539322: I tensorflow/compiler/xla/stream_executor/cuda/cuda_gpu_executor.cc:996] successful NUMA node read from SysFS had negative value (-1), but there must be at least one NUMA node, so returning NUMA node zero. See more at https://github.com/torvalds/linux/blob/v6.0/Documentation/ABI/testing/sysfs-bus-pci#L344-L355\n",
      "2023-08-01 00:36:26.539537: I tensorflow/core/common_runtime/gpu/gpu_device.cc:1635] Created device /job:localhost/replica:0/task:0/device:GPU:0 with 3047 MB memory:  -> device: 0, name: NVIDIA GeForce 940MX, pci bus id: 0000:01:00.0, compute capability: 5.0\n"
     ]
    }
   ],
   "source": [
    "model = dde.Model(data, net)\n",
    "model.compile(\n",
    "    optimizer, \n",
    "    metrics=metrics\n",
    ")"
   ]
  },
  {
   "cell_type": "code",
   "execution_count": 20,
   "id": "1226af02",
   "metadata": {},
   "outputs": [
    {
     "name": "stdout",
     "output_type": "stream",
     "text": [
      "Initializing variables...\n",
      "Training model...\n",
      "\n",
      "Step      Train loss    Test loss     Test metric   \n",
      "0         [5.29e-01]    [5.38e-01]    [1.04e+00]    \n",
      "INFO:tensorflow:Optimization terminated with:\n",
      "  Message: CONVERGENCE: REL_REDUCTION_OF_F_<=_FACTR*EPSMCH\n",
      "  Objective function value: 0.000001\n",
      "  Number of iterations: 393\n",
      "  Number of functions evaluations: 462\n",
      "462       [7.77e-07]    [1.34e-06]    [1.65e-03]    \n",
      "\n",
      "Best model at step 462:\n",
      "  train loss: 7.77e-07\n",
      "  test loss: 1.34e-06\n",
      "  test metric: [1.65e-03]\n",
      "\n",
      "'train' took 3.921314 s\n",
      "\n"
     ]
    }
   ],
   "source": [
    "loss_history, train_state = model.train(iterations=iterations)"
   ]
  },
  {
   "cell_type": "code",
   "execution_count": null,
   "id": "17b9e3e0",
   "metadata": {},
   "outputs": [],
   "source": [
    "dde.saveplot(loss_history, train_state, issave=True, isplot=True)"
   ]
  },
  {
   "cell_type": "code",
   "execution_count": null,
   "id": "71649807",
   "metadata": {},
   "outputs": [],
   "source": [
    "def save_loss_plot():\n",
    "    loss_file = open('loss.dat', 'r')\n",
    "    \n",
    "    loss_file.readline()\n",
    "    steps = []\n",
    "    train_loss = []\n",
    "    test_loss = []\n",
    "    test_metric = []\n",
    "    \n",
    "    for line in loss_file:\n",
    "        line = line.split()\n",
    "        steps.append(float(line[0]))\n",
    "        train_loss.append(float(line[1]))\n",
    "        test_loss.append(float(line[2]))\n",
    "        test_metric.append(float(line[3]))\n",
    "    \n",
    "    loss_file.close()\n",
    "    \n",
    "    plt.plot(steps, train_loss, label='Train loss')\n",
    "    plt.plot(steps, test_loss, label='Test loss')\n",
    "    plt.plot(steps, test_metric, label='Test metric')\n",
    "    \n",
    "    plt.xlabel('training epoch')\n",
    "    plt.yscale('log')\n",
    "    \n",
    "    plt.legend()\n",
    "    plt.savefig('{}-loss.png'.format(n))\n",
    "    plt.show()"
   ]
  },
  {
   "cell_type": "code",
   "execution_count": null,
   "id": "83d1cbf9",
   "metadata": {},
   "outputs": [],
   "source": [
    "def save_prediction_plot():\n",
    "    train_file = open('train.dat', 'r')\n",
    "    \n",
    "    x_train = []\n",
    "    y_train = []\n",
    "    train_file.readline()\n",
    "    \n",
    "    for line in train_file:\n",
    "        line = line.split()\n",
    "        x_train.append(float(line[0]))\n",
    "        y_train.append(float(line[1]))\n",
    "    \n",
    "    train_file.close()\n",
    "    \n",
    "    test_file = open('test.dat', 'r')\n",
    "    \n",
    "    x_test = []\n",
    "    y_true = []\n",
    "    y_pred = []\n",
    "    test_file.readline()\n",
    "    \n",
    "    for line in test_file:\n",
    "        line = line.split()\n",
    "        x_test.append(float(line[0]))\n",
    "        y_true.append(float(line[1]))\n",
    "        y_pred.append(float(line[2]))\n",
    "    \n",
    "    test_file.close()\n",
    "    \n",
    "    plt.plot(x_train, y_train, 'o', color='black', label='Training points')\n",
    "    plt.plot(x_test, y_true, '-', color='black', label='True values')\n",
    "    plt.plot(x_test, y_pred, '--', color='red', label='Predicted values')\n",
    "    \n",
    "    plt.xlabel('x')\n",
    "    plt.ylabel('$\\psi_{}$(x)'.format(n))\n",
    "    \n",
    "    plt.legend()\n",
    "    plt.savefig('{}-results.png'.format(n))\n",
    "    plt.show()"
   ]
  },
  {
   "cell_type": "code",
   "execution_count": null,
   "id": "aad79a8f",
   "metadata": {},
   "outputs": [],
   "source": [
    "save_prediction_plot()"
   ]
  },
  {
   "cell_type": "code",
   "execution_count": null,
   "id": "ce3c3c3a",
   "metadata": {},
   "outputs": [],
   "source": [
    "save_loss_plot()"
   ]
  },
  {
   "cell_type": "code",
   "execution_count": null,
   "id": "65df7ec0",
   "metadata": {},
   "outputs": [],
   "source": [
    "!mv loss.dat $n-loss.dat\n",
    "!mv test.dat $n-test.dat\n",
    "!mv train.dat $n-train.dat"
   ]
  },
  {
   "cell_type": "code",
   "execution_count": null,
   "id": "60d932c1",
   "metadata": {},
   "outputs": [],
   "source": []
  }
 ],
 "metadata": {
  "kernelspec": {
   "display_name": "Python 3 (ipykernel)",
   "language": "python",
   "name": "python3"
  },
  "language_info": {
   "codemirror_mode": {
    "name": "ipython",
    "version": 3
   },
   "file_extension": ".py",
   "mimetype": "text/x-python",
   "name": "python",
   "nbconvert_exporter": "python",
   "pygments_lexer": "ipython3",
   "version": "3.10.12"
  }
 },
 "nbformat": 4,
 "nbformat_minor": 5
}

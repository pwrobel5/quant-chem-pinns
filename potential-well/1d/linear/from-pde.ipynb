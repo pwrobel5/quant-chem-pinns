{
 "cells": [
  {
   "cell_type": "code",
   "execution_count": null,
   "id": "b5841f28",
   "metadata": {},
   "outputs": [],
   "source": [
    "import deepxde as dde\n",
    "import numpy as np\n",
    "import matplotlib.pyplot as plt\n",
    "\n",
    "dde.config.set_random_seed(1234)"
   ]
  },
  {
   "cell_type": "code",
   "execution_count": null,
   "id": "0c687e05",
   "metadata": {},
   "outputs": [],
   "source": [
    "num_dense_layers = 5\n",
    "num_dense_nodes = 20\n",
    "iterations = 10000\n",
    "activation = 'tanh'\n",
    "initializer = 'Glorot uniform'\n",
    "weights = 100"
   ]
  },
  {
   "cell_type": "code",
   "execution_count": null,
   "id": "6d501aac",
   "metadata": {},
   "outputs": [],
   "source": [
    "num_train = 32\n",
    "num_test = 100\n",
    "num_boundary = 2"
   ]
  },
  {
   "cell_type": "code",
   "execution_count": null,
   "id": "af39d79b",
   "metadata": {},
   "outputs": [],
   "source": [
    "L = 2\n",
    "n = 5\n",
    "k = (n * np.pi) / L\n",
    "E = 0.5 * (k ** 2)"
   ]
  },
  {
   "cell_type": "code",
   "execution_count": null,
   "id": "ab02ff5a",
   "metadata": {},
   "outputs": [],
   "source": [
    "domain = dde.geometry.Interval(-L / 2, L / 2)"
   ]
  },
  {
   "cell_type": "code",
   "execution_count": null,
   "id": "16b294e6",
   "metadata": {},
   "outputs": [],
   "source": [
    "def pde(x, y):\n",
    "    dy_xx = dde.grad.hessian(y, x)\n",
    "    return 0.5 * dy_xx + E * y"
   ]
  },
  {
   "cell_type": "code",
   "execution_count": null,
   "id": "6f54a1c6",
   "metadata": {},
   "outputs": [],
   "source": [
    "def psi(x):\n",
    "    normalization_constant = np.sqrt(2.0 / L)\n",
    "    return normalization_constant * np.sin(k * (x + 0.5 * L))"
   ]
  },
  {
   "cell_type": "code",
   "execution_count": null,
   "id": "ea97fae4",
   "metadata": {},
   "outputs": [],
   "source": [
    "def get_collocation_points(n):\n",
    "    points = []\n",
    "    for k in range(n):\n",
    "        x = (k * L) / n + L / (2 * n) - L / 2\n",
    "        points.append([x])\n",
    "        \n",
    "    if n == 1:\n",
    "        points.append([L / 4])\n",
    "        points.append([-L / 4])\n",
    "    \n",
    "    return np.array(points)"
   ]
  },
  {
   "cell_type": "code",
   "execution_count": null,
   "id": "e4c83777",
   "metadata": {},
   "outputs": [],
   "source": [
    "collocation_points = get_collocation_points(n)\n",
    "collocation_values = psi(collocation_points)\n",
    "ic = dde.icbc.PointSetBC(collocation_points, collocation_values)"
   ]
  },
  {
   "cell_type": "code",
   "execution_count": null,
   "id": "52f4a0df",
   "metadata": {},
   "outputs": [],
   "source": [
    "def x_boundary(_, on_boundary):\n",
    "    return on_boundary\n",
    "\n",
    "dirichlet_bc = dde.icbc.DirichletBC(domain, lambda x: 0, x_boundary)"
   ]
  },
  {
   "cell_type": "code",
   "execution_count": null,
   "id": "691b3b68",
   "metadata": {},
   "outputs": [],
   "source": [
    "data = dde.data.PDE(\n",
    "    domain, \n",
    "    pde, \n",
    "    [ic, dirichlet_bc], \n",
    "    num_domain=num_train, \n",
    "    num_boundary=num_boundary,\n",
    "    solution=psi, \n",
    "    num_test=num_test\n",
    ")"
   ]
  },
  {
   "cell_type": "code",
   "execution_count": null,
   "id": "a4043e04",
   "metadata": {},
   "outputs": [],
   "source": [
    "net = dde.nn.FNN(\n",
    "    [1] + [num_dense_nodes] * num_dense_layers + [1], \n",
    "    activation, \n",
    "    initializer\n",
    ")"
   ]
  },
  {
   "cell_type": "code",
   "execution_count": null,
   "id": "6c81b987",
   "metadata": {},
   "outputs": [],
   "source": [
    "model = dde.Model(data, net)\n",
    "\n",
    "loss_weights = [1, weights, weights]\n",
    "model.compile(\n",
    "    'L-BFGS', \n",
    "    metrics=['l2 relative error'],\n",
    "    loss_weights=loss_weights\n",
    ")"
   ]
  },
  {
   "cell_type": "code",
   "execution_count": null,
   "id": "f6927a05",
   "metadata": {},
   "outputs": [],
   "source": [
    "loss_history, train_state = model.train(iterations=iterations)"
   ]
  },
  {
   "cell_type": "code",
   "execution_count": null,
   "id": "ad8f1c89",
   "metadata": {},
   "outputs": [],
   "source": [
    "dde.saveplot(loss_history, train_state, issave=True, isplot=True)"
   ]
  },
  {
   "cell_type": "code",
   "execution_count": null,
   "id": "69a97934",
   "metadata": {},
   "outputs": [],
   "source": [
    "def save_loss_plot():\n",
    "    loss_file = open('loss.dat', 'r')\n",
    "    \n",
    "    loss_file.readline()\n",
    "    steps = []\n",
    "    train_loss = []\n",
    "    test_loss = []\n",
    "    test_metric = []\n",
    "    \n",
    "    for line in loss_file:\n",
    "        line = line.split()\n",
    "        steps.append(float(line[0]))\n",
    "        train_loss.append(max([float(line[i]) for i in range(1, 4)]))\n",
    "        test_loss.append(max([float(line[i]) for i in range(4, 7)]))\n",
    "        test_metric.append(float(line[-1]))\n",
    "    \n",
    "    loss_file.close()\n",
    "    \n",
    "    plt.plot(steps, train_loss, label='Train loss')\n",
    "    plt.plot(steps, test_loss, label='Test loss')\n",
    "    plt.plot(steps, test_metric, label='Test metric')\n",
    "    \n",
    "    plt.xlabel('training epoch')\n",
    "    plt.yscale('log')\n",
    "    \n",
    "    plt.legend()\n",
    "    plt.savefig('{}-loss.png'.format(n))\n",
    "    plt.show()"
   ]
  },
  {
   "cell_type": "code",
   "execution_count": null,
   "id": "85bedd54",
   "metadata": {},
   "outputs": [],
   "source": [
    "def save_prediction_plot():\n",
    "    train_file = open('train.dat', 'r')\n",
    "    \n",
    "    x_train = []\n",
    "    y_train = []\n",
    "    train_file.readline()\n",
    "    \n",
    "    for line in train_file:\n",
    "        line = line.split()\n",
    "        x_train.append(float(line[0]))\n",
    "        y_train.append(float(line[1]))\n",
    "    \n",
    "    train_file.close()\n",
    "    \n",
    "    test_file = open('test.dat', 'r')\n",
    "    \n",
    "    x_test = []\n",
    "    y_true = []\n",
    "    y_pred = []\n",
    "    test_file.readline()\n",
    "    \n",
    "    for line in test_file:\n",
    "        line = line.split()\n",
    "        x_test.append(float(line[0]))\n",
    "        y_true.append(float(line[1]))\n",
    "        y_pred.append(float(line[2]))\n",
    "    \n",
    "    test_file.close()\n",
    "    \n",
    "    x_true, y_true = zip(*sorted(zip(x_test, y_true)))\n",
    "    x_pred, y_pred = zip(*sorted(zip(x_test, y_pred)))\n",
    "    \n",
    "    plt.plot(x_train, y_train, 'o', color='black', label='Training points')\n",
    "    plt.plot(x_true, y_true, '-', color='black', label='True values')\n",
    "    plt.plot(x_pred, y_pred, '--', color='red', label='Predicted values')\n",
    "    \n",
    "    plt.xlabel('x')\n",
    "    plt.ylabel('$\\psi_{}$(x)'.format(n))\n",
    "    \n",
    "    plt.legend()\n",
    "    plt.savefig('{}-results.png'.format(n))\n",
    "    plt.show()"
   ]
  },
  {
   "cell_type": "code",
   "execution_count": null,
   "id": "b69b8dc8",
   "metadata": {},
   "outputs": [],
   "source": [
    "save_prediction_plot()"
   ]
  },
  {
   "cell_type": "code",
   "execution_count": null,
   "id": "2105ec24",
   "metadata": {},
   "outputs": [],
   "source": [
    "save_loss_plot()"
   ]
  },
  {
   "cell_type": "code",
   "execution_count": null,
   "id": "f4dca785",
   "metadata": {},
   "outputs": [],
   "source": [
    "!mv loss.dat $n-loss.dat\n",
    "!mv test.dat $n-test.dat\n",
    "!mv train.dat $n-train.dat"
   ]
  },
  {
   "cell_type": "code",
   "execution_count": null,
   "id": "f96f0210",
   "metadata": {},
   "outputs": [],
   "source": []
  }
 ],
 "metadata": {
  "kernelspec": {
   "display_name": "Python 3 (ipykernel)",
   "language": "python",
   "name": "python3"
  },
  "language_info": {
   "codemirror_mode": {
    "name": "ipython",
    "version": 3
   },
   "file_extension": ".py",
   "mimetype": "text/x-python",
   "name": "python",
   "nbconvert_exporter": "python",
   "pygments_lexer": "ipython3",
   "version": "3.10.6"
  }
 },
 "nbformat": 4,
 "nbformat_minor": 5
}
